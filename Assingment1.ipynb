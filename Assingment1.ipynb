{
  "nbformat": 4,
  "nbformat_minor": 0,
  "metadata": {
    "colab": {
      "provenance": []
    },
    "kernelspec": {
      "name": "python3",
      "display_name": "Python 3"
    },
    "language_info": {
      "name": "python"
    }
  },
  "cells": [
    {
      "cell_type": "code",
      "execution_count": null,
      "metadata": {
        "colab": {
          "base_uri": "https://localhost:8080/"
        },
        "id": "-btjCoeJpZze",
        "outputId": "1a32ef32-d629-45b3-8b56-754a252932c9"
      },
      "outputs": [
        {
          "output_type": "stream",
          "name": "stdout",
          "text": [
            "nohp\n"
          ]
        }
      ],
      "source": [
        "def reverse(str):\n",
        "  return str[::-1]\n",
        "\n",
        "x=(\"python\".replace('yt',''))\n",
        "print(reverse(x))"
      ]
    },
    {
      "cell_type": "code",
      "source": [
        "num1=10\n",
        "num2=5\n",
        "print(\"sum = \",num1+num2)\n",
        "print(\"diff = \",num1-num2)\n",
        "print(\"Divide = \", num1/num2)\n",
        "print(\"Percentage = \", num1%num2)"
      ],
      "metadata": {
        "colab": {
          "base_uri": "https://localhost:8080/"
        },
        "id": "mpdg193XptBR",
        "outputId": "24e7d992-2c7f-4744-ad02-bc771b15652e"
      },
      "execution_count": null,
      "outputs": [
        {
          "output_type": "stream",
          "name": "stdout",
          "text": [
            "sum =  15\n",
            "diff =  5\n",
            "Divide =  2.0\n",
            "Percentage =  0\n"
          ]
        }
      ]
    },
    {
      "cell_type": "code",
      "source": [
        "a=\"I love playing with python\"\n",
        "print(a.replace('python','pythons'))"
      ],
      "metadata": {
        "colab": {
          "base_uri": "https://localhost:8080/"
        },
        "id": "3SffDCWVp-s8",
        "outputId": "37f82826-9f51-4585-c7fd-f5045dfefdca"
      },
      "execution_count": null,
      "outputs": [
        {
          "output_type": "stream",
          "name": "stdout",
          "text": [
            "I love playing with pythons\n"
          ]
        }
      ]
    },
    {
      "cell_type": "code",
      "source": [
        "s1=10\n",
        "s2=35\n",
        "total=s1+s2\n",
        "\n",
        "if(total>=90):\n",
        "  print(\"Your grade is A\")\n",
        "\n",
        "elif(total>=70 and total<90):\n",
        "  print(\"Your grade is B\")\n",
        "\n",
        "elif(total>=50 and total <70):\n",
        "  print(\"Your grade is C\")\n",
        "\n",
        "else:\n",
        "  print(\"Your grade is F\")"
      ],
      "metadata": {
        "colab": {
          "base_uri": "https://localhost:8080/"
        },
        "id": "35tsHhMDqDwx",
        "outputId": "d1475fd3-795e-402a-df9b-67f0d9648412"
      },
      "execution_count": null,
      "outputs": [
        {
          "output_type": "stream",
          "name": "stdout",
          "text": [
            "Your grade is F\n"
          ]
        }
      ]
    }
  ]
}